{
 "cells": [
  {
   "cell_type": "markdown",
   "metadata": {
    "id": "Q91KqmCRu64D"
   },
   "source": [
    "# **Deep Learning Project: Street View Housing Number Digit Recognition**\n",
    "\n",
    "# Submitted by Alexander J Miller #\n",
    "\n",
    "\n",
    "--------------\n",
    "## **Context**\n",
    "--------------\n",
    "\n",
    "One of the most interesting tasks in deep learning is to recognize objects in natural scenes. The ability to process visual information using machine learning algorithms can be very useful as demonstrated in various applications.\n",
    "\n",
    "The SVHN dataset contains over 600,000 labeled digits cropped from street-level photos. It is one of the most popular image recognition datasets. It has been used in neural networks created by Google to improve the map quality by automatically transcribing the address numbers from a patch of pixels. The transcribed number with a known street address helps pinpoint the location of the building it represents.\n",
    "\n",
    "----------------\n",
    "## **Objective**\n",
    "----------------\n",
    "\n",
    "Our objective is to predict the number depicted inside the image by using Artificial or Fully Connected Feed Forward Neural Networks and Convolutional Neural Networks. We will go through various models of each and finally select the one that is giving us the best performance.\n",
    "\n",
    "-------------\n",
    "## **Dataset**\n",
    "-------------\n",
    "Here, we will use a subset of the original data to save some computation time. The dataset is provided as a .h5 file. The basic preprocessing steps have been applied on the dataset."
   ]
  },
  {
   "cell_type": "markdown",
   "metadata": {
    "id": "8z2Z7-OAs8QG"
   },
   "source": [
    "## **Mount the drive**\n",
    "\n",
    "Let us start by mounting the Google drive. You can run the below cell to mount the Google drive."
   ]
  },
  {
   "cell_type": "code",
   "execution_count": 1,
   "metadata": {
    "colab": {
     "base_uri": "https://localhost:8080/"
    },
    "id": "03lDyQUuef7z",
    "outputId": "5a21e980-09dd-4493-d600-3f5831d2b831"
   },
   "outputs": [
    {
     "name": "stdout",
     "output_type": "stream",
     "text": [
      "Mounted at /content/drive\n"
     ]
    }
   ],
   "source": [
    "from google.colab import drive\n",
    "drive.mount('/content/drive')"
   ]
  },
  {
   "cell_type": "markdown",
   "metadata": {
    "id": "C8U3DUa3eNsT"
   },
   "source": [
    "## **Importing the necessary libraries**"
   ]
  },
  {
   "cell_type": "code",
   "execution_count": 2,
   "metadata": {
    "id": "-dVzeuF3eQx1"
   },
   "outputs": [],
   "source": [
    "import numpy as np\n",
    "import pandas as pd\n",
    "#from pandas import HDFStore\n",
    "import h5py\n",
    "\n",
    "# A library for data visualization\n",
    "import matplotlib.pyplot as plt\n",
    "\n",
    "# An advanced library for data visualization\n",
    "import seaborn as sns\n",
    "\n",
    "# To create an ANN & CNN models\n",
    "import tensorflow as tf\n",
    "from tensorflow.keras.models import Sequential\n",
    "from tensorflow.keras.layers import Dense, Dropout, Flatten, BatchNormalization, Conv2D, MaxPooling2D, LeakyReLU\n",
    "from tensorflow.keras.optimizers import Adam\n",
    "\n",
    "#for setting random seed and clearing backend\n",
    "from tensorflow.keras import backend\n",
    "import random\n",
    "random_seed_val = 42  # random seed value to be used for the entire notebook\n",
    "\n",
    "#to produce classification report for the accuracy of a model\n",
    "from sklearn import metrics\n",
    "\n",
    "# turn off warnings\n",
    "import warnings\n",
    "warnings.filterwarnings(\"ignore\")\n"
   ]
  },
  {
   "cell_type": "markdown",
   "metadata": {
    "id": "ucnevGLoyKf_"
   },
   "source": [
    "**Let us check the version of tensorflow.**"
   ]
  },
  {
   "cell_type": "code",
   "execution_count": 3,
   "metadata": {
    "colab": {
     "base_uri": "https://localhost:8080/"
    },
    "id": "W5as47YxyJVk",
    "outputId": "68c66e6b-4a4b-4ee2-9202-7c296b0cd11b"
   },
   "outputs": [
    {
     "name": "stdout",
     "output_type": "stream",
     "text": [
      "tensorflow version: 2.12.0\n"
     ]
    }
   ],
   "source": [
    "print(\"tensorflow version:\",tf.__version__)"
   ]
  },
  {
   "cell_type": "markdown",
   "metadata": {
    "id": "8lsux2ZwyTTR"
   },
   "source": [
    "## **Load the dataset**\n",
    "\n",
    "- Let us now load the dataset that is available as a .h5 file.\n",
    "- Split the data into the train and the test dataset."
   ]
  },
  {
   "cell_type": "code",
   "execution_count": 4,
   "metadata": {
    "id": "BApX9qgNsqV0",
    "scrolled": true
   },
   "outputs": [],
   "source": [
    "# open the hdf5 file\n",
    "hdf = h5py.File('/content/drive/My Drive/MIT_DataScience/Elective Project/SVHN_single_grey1.h5', 'r')\n",
    "\n",
    "# get training data\n",
    "X_train = hdf.get('X_train')\n",
    "y_train = hdf.get('y_train')\n",
    "X_train = X_train[()] # this gets the actual dataframe from the hdf file object\n",
    "y_train = y_train[()]\n",
    "\n",
    "# get test data\n",
    "X_test = hdf.get('X_test')\n",
    "y_test = hdf.get('y_test')\n",
    "X_test = X_test[()]\n",
    "y_test = y_test[()]\n",
    "\n",
    "hdf.close()"
   ]
  },
  {
   "cell_type": "markdown",
   "metadata": {
    "id": "hVe0CYpUgj7w"
   },
   "source": [
    "\n",
    "Check the number of images in the training and the testing dataset."
   ]
  },
  {
   "cell_type": "code",
   "execution_count": 5,
   "metadata": {
    "colab": {
     "base_uri": "https://localhost:8080/"
    },
    "id": "y3lwKpOefkpA",
    "outputId": "f6224112-9dc6-49c3-faf1-e6cb34006c3e"
   },
   "outputs": [
    {
     "name": "stdout",
     "output_type": "stream",
     "text": [
      "Training data sets:\n",
      "X_train: (42000, 32, 32)\n",
      "y train: (42000,)\n",
      "- - - - - -\n",
      "Testing data sets:\n",
      "X_test: (18000, 32, 32)\n",
      "y_test (18000,)\n",
      "\n",
      "<class 'numpy.ndarray'>\n"
     ]
    }
   ],
   "source": [
    "# print shape of training datasets\n",
    "print(\"Training data sets:\")\n",
    "print(\"X_train:\",X_train.shape)\n",
    "print(\"y train:\",y_train.shape)\n",
    "print(\"- - - - - -\")\n",
    "# print share of test datasets\n",
    "print(\"Testing data sets:\")\n",
    "print(\"X_test:\",X_test.shape)\n",
    "print(\"y_test\",y_test.shape)\n",
    "\n",
    "print('')\n",
    "print(type(X_train))"
   ]
  },
  {
   "cell_type": "markdown",
   "metadata": {
    "id": "akTUOfLlgwoM"
   },
   "source": [
    "**Observation:**\n",
    "- there are 42,000 images in the training dataset\n",
    "- there are 18,000 images in the testing dataset\n",
    "- images are 32x32 pixels\n",
    "- These images will need to be flattened before being passed into an ANN"
   ]
  },
  {
   "cell_type": "markdown",
   "metadata": {
    "id": "kxODV6HKykuc"
   },
   "source": [
    "## **Visualizing images**\n",
    "\n",
    "- Use X_train to visualize the first 10 images.\n",
    "- Use Y_train to print the first 10 labels."
   ]
  },
  {
   "cell_type": "code",
   "execution_count": 6,
   "metadata": {
    "colab": {
     "base_uri": "https://localhost:8080/",
     "height": 360
    },
    "id": "Bvsc8ytHsqWD",
    "outputId": "6b2fc334-21be-4d0b-9f58-9252bf5a5114"
   },
   "outputs": [
    {
     "data": {
      "image/png": "[encoded data removed]",
      "text/plain": [
       "<Figure size 1000x400 with 10 Axes>"
      ]
     },
     "metadata": {},
     "output_type": "display_data"
    }
   ],
   "source": [
    "# Declaring the number of rows\n",
    "rows = 2\n",
    "# Declaring the number of columns\n",
    "cols = 5\n",
    "\n",
    "fig = plt.figure(figsize = (10, 4))\n",
    "imgCount = 0\n",
    "\n",
    "# for each column\n",
    "for i in range(cols):\n",
    "    # for each row\n",
    "    for j in range(rows):\n",
    "        # add image\n",
    "        ax = fig.add_subplot(rows, cols, i * rows + j + 1)\n",
    "        ax.imshow(X_train[imgCount, :], cmap='gray')\n",
    "\n",
    "        # add label\n",
    "        ax.set_title(y_train[imgCount])\n",
    "\n",
    "        # remove tickmarks and text\n",
    "        ax.tick_params('y', labelleft=False)\n",
    "        ax.tick_params('x', labelbottom=False)\n",
    "        ax.set_xticks(ticks=[])\n",
    "        ax.set_yticks(ticks=[])\n",
    "\n",
    "        imgCount += 1\n",
    "\n",
    "# Display the plot\n",
    "plt.show()"
   ]
  },
  {
   "cell_type": "markdown",
   "metadata": {
    "id": "kzoyeXHOy80N"
   },
   "source": [
    "## **Data preparation**\n",
    "\n",
    "- Print the shape and the array of pixels for the first image in the training dataset.\n",
    "- Normalize the train and the test dataset by dividing by 255.\n",
    "- Print the new shapes of the train and the test dataset.\n",
    "- One-hot encode the target variable."
   ]
  },
  {
   "cell_type": "code",
   "execution_count": 7,
   "metadata": {
    "colab": {
     "base_uri": "https://localhost:8080/"
    },
    "id": "NqndzQXng9rL",
    "outputId": "870dbcee-c9a5-4c6e-a950-9b18072125a7"
   },
   "outputs": [
    {
     "name": "stdout",
     "output_type": "stream",
     "text": [
      "Shape and array of first image in training dataset:\n",
      "Shape: (32, 32)\n",
      "[[ 33.0704  30.2601  26.852  ...  71.4471  58.2204  42.9939]\n",
      " [ 25.2283  25.5533  29.9765 ... 113.0209 103.3639  84.2949]\n",
      " [ 26.2775  22.6137  40.4763 ... 113.3028 121.775  115.4228]\n",
      " ...\n",
      " [ 28.5502  36.212   45.0801 ...  24.1359  25.0927  26.0603]\n",
      " [ 38.4352  26.4733  23.2717 ...  28.1094  29.4683  30.0661]\n",
      " [ 50.2984  26.0773  24.0389 ...  49.6682  50.853   53.0377]]\n"
     ]
    }
   ],
   "source": [
    "# Print the shape and the array of pixels for the first image in the training dataset.\n",
    "print(\"Shape and array of first image in training dataset:\")\n",
    "print(\"Shape:\",X_train[0].shape)\n",
    "print(X_train[0])"
   ]
  },
  {
   "cell_type": "markdown",
   "metadata": {
    "id": "f4CQkKtQ0XII"
   },
   "source": [
    "### **Normalize the train and the test data**"
   ]
  },
  {
   "cell_type": "code",
   "execution_count": 8,
   "metadata": {
    "id": "nU2w4G_8WZh0"
   },
   "outputs": [],
   "source": [
    "# Reshaping the dataset to flatten them. Reshaping the 2D image into a 1D array\n",
    "X_train = X_train.reshape(X_train.shape[0], 1024)\n",
    "X_test = X_test.reshape(X_test.shape[0], 1024)"
   ]
  },
  {
   "cell_type": "code",
   "execution_count": 9,
   "metadata": {
    "id": "q_yUUTp_mUzB"
   },
   "outputs": [],
   "source": [
    "# Normalizing the image pixels by dividing by 255\n",
    "x_train_norm = X_train.astype('float32')/255.0\n",
    "x_test_norm = X_test.astype('float32')/255.0"
   ]
  },
  {
   "cell_type": "code",
   "execution_count": 10,
   "metadata": {
    "colab": {
     "base_uri": "https://localhost:8080/"
    },
    "id": "PAvUuY91uOyj",
    "outputId": "61d679b2-4a93-48af-f284-2d15213a4ef9"
   },
   "outputs": [
    {
     "name": "stdout",
     "output_type": "stream",
     "text": [
      "[0.12968785 0.11866706 0.10530196 ... 0.19477727 0.19942354 0.20799099]\n"
     ]
    }
   ],
   "source": [
    "# confirm noramlization worked\n",
    "print(x_train_norm[0])"
   ]
  },
  {
   "cell_type": "markdown",
   "metadata": {
    "id": "YSlYN6pb8kMY"
   },
   "source": [
    "Print the shapes of Training and Test data"
   ]
  },
  {
   "cell_type": "code",
   "execution_count": 11,
   "metadata": {
    "colab": {
     "base_uri": "https://localhost:8080/"
    },
    "id": "t7FSqOpamWkH",
    "outputId": "6269767e-c93e-4ce1-b864-1b54153cc6a8"
   },
   "outputs": [
    {
     "name": "stdout",
     "output_type": "stream",
     "text": [
      "x_train_norm: (42000, 1024)\n",
      "x_test_norm: (18000, 1024)\n"
     ]
    }
   ],
   "source": [
    "# Print the shapes of Training and Test data\n",
    "print(\"x_train_norm:\", x_train_norm.shape)\n",
    "print(\"x_test_norm:\", x_test_norm.shape)"
   ]
  },
  {
   "cell_type": "markdown",
   "metadata": {
    "id": "rhf9nuDjDPST"
   },
   "source": [
    "**Observations:**\n",
    "- the shapes of x_train and x_test have changed considerably\n",
    "- both datasets now contain 1D arrays of length 1024 instead of images which were 2D arrays of length 32x32"
   ]
  },
  {
   "cell_type": "markdown",
   "metadata": {
    "id": "0uLxXBpz81vk"
   },
   "source": [
    "### **One-hot encode output**"
   ]
  },
  {
   "cell_type": "code",
   "execution_count": 12,
   "metadata": {
    "id": "zL0lYER4sqWw"
   },
   "outputs": [],
   "source": [
    "# Creating one-hot encoded representation of target labels\n",
    "y_train_encoded = tf.keras.utils.to_categorical(y_train)\n",
    "y_test_encoded = tf.keras.utils.to_categorical(y_test)"
   ]
  },
  {
   "cell_type": "code",
   "execution_count": 13,
   "metadata": {
    "colab": {
     "base_uri": "https://localhost:8080/"
    },
    "id": "kexNNm-akBKh",
    "outputId": "0f4ac8bd-57da-4163-95cf-79bd4418976d"
   },
   "outputs": [
    {
     "name": "stdout",
     "output_type": "stream",
     "text": [
      "y_train_encoded:\n",
      "[[0. 0. 1. ... 0. 0. 0.]\n",
      " [0. 0. 0. ... 0. 0. 0.]\n",
      " [0. 0. 0. ... 1. 0. 0.]\n",
      " ...\n",
      " [0. 0. 0. ... 1. 0. 0.]\n",
      " [1. 0. 0. ... 0. 0. 0.]\n",
      " [0. 0. 0. ... 0. 0. 0.]]\n",
      "<class 'numpy.ndarray'>\n",
      "- - - - - - - -\n",
      "y_train shape:, (42000,)\n",
      "y_train_encoded shape: (42000, 10)\n",
      "y_test shape:, (18000,)\n",
      "y_test_encoded shape: (18000, 10)\n"
     ]
    }
   ],
   "source": [
    "# print encoded data and shapes to verify encoded was successful\n",
    "print(\"y_train_encoded:\")\n",
    "print(y_train_encoded)\n",
    "print(type(y_train_encoded))\n",
    "print(\"- - - - - - - -\")\n",
    "print(\"y_train shape:,\",y_train.shape)\n",
    "print(\"y_train_encoded shape:\",y_train_encoded.shape)\n",
    "print(\"y_test shape:,\",y_test.shape)\n",
    "print(\"y_test_encoded shape:\",y_test_encoded.shape)"
   ]
  },
  {
   "cell_type": "markdown",
   "metadata": {
    "id": "ViqPOTquCF76"
   },
   "source": [
    "**Observations:**\n",
    "\n",
    "- encoding was successful\n",
    "- the shape of the test and training answers has changed as the data is now a numpy array as opposed to a single number\n",
    "- There are still 42,000 entries in the training datasets and 18,000 entries in the testing datasets\n",
    "\n",
    "\n"
   ]
  },
  {
   "cell_type": "markdown",
   "metadata": {
    "id": "yH-gVrzuByNA"
   },
   "source": [
    "## **Model Building**\n",
    "\n",
    "Now that we have done the data preprocessing, let's build an ANN model.\n",
    "\n",
    "### Fix the seed for random number generators"
   ]
  },
  {
   "cell_type": "code",
   "execution_count": 14,
   "metadata": {
    "id": "BcKRwrGn0XIL"
   },
   "outputs": [],
   "source": [
    "# clear backend and fix the seed for random number generators\n",
    "backend.clear_session()\n",
    "np.random.seed(random_seed_val)\n",
    "random.seed(random_seed_val)\n",
    "tf.random.set_seed(random_seed_val)"
   ]
  },
  {
   "cell_type": "markdown",
   "metadata": {
    "id": "A48z6ucF0XIP"
   },
   "source": [
    "### **Build and train an ANN model.**"
   ]
  },
  {
   "cell_type": "code",
   "execution_count": 15,
   "metadata": {
    "id": "f-Z2TInHNpM3"
   },
   "outputs": [],
   "source": [
    "# function to create ann_model_1\n",
    "def nn_model_1():\n",
    "  # Create a Sequential Object\n",
    "  model = Sequential()\n",
    "\n",
    "  # Add dense layer with 64 neurons to the sequental object\n",
    "  model.add(Dense(64, input_shape = (1024, ), activation = 'relu'))\n",
    "\n",
    "  # Add dense layer with 32 neurons to the sequental object\n",
    "  model.add(Dense(32, activation = 'relu'))\n",
    "\n",
    "  # Output layer with 10 neurons for the 10 classes\n",
    "  model.add(Dense(10,activation = 'softmax'))\n",
    "\n",
    "  # Compile the model\n",
    "  model.compile(loss = 'categorical_crossentropy',\n",
    "              metrics = ['accuracy'],\n",
    "              optimizer = tf.keras.optimizers.Adam(learning_rate=0.001))\n",
    "\n",
    "  return model"
   ]
  },
  {
   "cell_type": "code",
   "execution_count": 16,
   "metadata": {
    "colab": {
     "base_uri": "https://localhost:8080/"
    },
    "id": "LdSYBLDu2EtO",
    "outputId": "270f0339-bf37-436a-aa8d-da42ab44520c"
   },
   "outputs": [
    {
     "name": "stdout",
     "output_type": "stream",
     "text": [
      "Model: \"sequential\"\n",
      "_________________________________________________________________\n",
      " Layer (type)                Output Shape              Param #   \n",
      "=================================================================\n",
      " dense (Dense)               (None, 64)                65600     \n",
      "                                                                 \n",
      " dense_1 (Dense)             (None, 32)                2080      \n",
      "                                                                 \n",
      " dense_2 (Dense)             (None, 10)                330       \n",
      "                                                                 \n",
      "=================================================================\n",
      "Total params: 68,010\n",
      "Trainable params: 68,010\n",
      "Non-trainable params: 0\n",
      "_________________________________________________________________\n"
     ]
    }
   ],
   "source": [
    "# get model and print summary\n",
    "ann_model_1 = nn_model_1()\n",
    "ann_model_1.summary()"
   ]
  },
  {
   "cell_type": "code",
   "execution_count": 17,
   "metadata": {
    "colab": {
     "base_uri": "https://localhost:8080/"
    },
    "id": "lt77zgGMP4yw",
    "outputId": "fb8a8bde-5532-4c2c-b837-4674ed452b43"
   },
   "outputs": [
    {
     "name": "stdout",
     "output_type": "stream",
     "text": [
      "Epoch 1/20\n",
      "263/263 [==============================] - 7s 5ms/step - loss: 2.2966 - accuracy: 0.1149 - val_loss: 2.2563 - val_accuracy: 0.1470\n",
      "Epoch 2/20\n",
      "263/263 [==============================] - 1s 4ms/step - loss: 2.1132 - accuracy: 0.2275 - val_loss: 1.9753 - val_accuracy: 0.3154\n",
      "Epoch 3/20\n",
      "263/263 [==============================] - 1s 4ms/step - loss: 1.9138 - accuracy: 0.3293 - val_loss: 1.8557 - val_accuracy: 0.3582\n",
      "Epoch 4/20\n",
      "263/263 [==============================] - 1s 4ms/step - loss: 1.8125 - accuracy: 0.3811 - val_loss: 1.7706 - val_accuracy: 0.4001\n",
      "Epoch 5/20\n",
      "263/263 [==============================] - 1s 5ms/step - loss: 1.7037 - accuracy: 0.4256 - val_loss: 1.6556 - val_accuracy: 0.4427\n",
      "Epoch 6/20\n",
      "263/263 [==============================] - 1s 5ms/step - loss: 1.5946 - accuracy: 0.4629 - val_loss: 1.5464 - val_accuracy: 0.4857\n",
      "Epoch 7/20\n",
      "263/263 [==============================] - 1s 5ms/step - loss: 1.5175 - accuracy: 0.4941 - val_loss: 1.5090 - val_accuracy: 0.4979\n",
      "Epoch 8/20\n",
      "263/263 [==============================] - 1s 4ms/step - loss: 1.4536 - accuracy: 0.5185 - val_loss: 1.4151 - val_accuracy: 0.5376\n",
      "Epoch 9/20\n",
      "263/263 [==============================] - 1s 4ms/step - loss: 1.4040 - accuracy: 0.5407 - val_loss: 1.3873 - val_accuracy: 0.5474\n",
      "Epoch 10/20\n",
      "263/263 [==============================] - 1s 4ms/step - loss: 1.3676 - accuracy: 0.5537 - val_loss: 1.3481 - val_accuracy: 0.5687\n",
      "Epoch 11/20\n",
      "263/263 [==============================] - 1s 4ms/step - loss: 1.3443 - accuracy: 0.5624 - val_loss: 1.3295 - val_accuracy: 0.5713\n",
      "Epoch 12/20\n",
      "263/263 [==============================] - 1s 4ms/step - loss: 1.3253 - accuracy: 0.5676 - val_loss: 1.3168 - val_accuracy: 0.5727\n",
      "Epoch 13/20\n",
      "263/263 [==============================] - 1s 4ms/step - loss: 1.3049 - accuracy: 0.5742 - val_loss: 1.2980 - val_accuracy: 0.5779\n",
      "Epoch 14/20\n",
      "263/263 [==============================] - 1s 4ms/step - loss: 1.2917 - accuracy: 0.5785 - val_loss: 1.3109 - val_accuracy: 0.5737\n",
      "Epoch 15/20\n",
      "263/263 [==============================] - 1s 4ms/step - loss: 1.2774 - accuracy: 0.5844 - val_loss: 1.2992 - val_accuracy: 0.5843\n",
      "Epoch 16/20\n",
      "263/263 [==============================] - 1s 4ms/step - loss: 1.2680 - accuracy: 0.5904 - val_loss: 1.2595 - val_accuracy: 0.5975\n",
      "Epoch 17/20\n",
      "263/263 [==============================] - 1s 5ms/step - loss: 1.2575 - accuracy: 0.5935 - val_loss: 1.2456 - val_accuracy: 0.6056\n",
      "Epoch 18/20\n",
      "263/263 [==============================] - 1s 5ms/step - loss: 1.2448 - accuracy: 0.5979 - val_loss: 1.2479 - val_accuracy: 0.6023\n",
      "Epoch 19/20\n",
      "263/263 [==============================] - 1s 5ms/step - loss: 1.2389 - accuracy: 0.6004 - val_loss: 1.2536 - val_accuracy: 0.5943\n",
      "Epoch 20/20\n",
      "263/263 [==============================] - 1s 5ms/step - loss: 1.2329 - accuracy: 0.6046 - val_loss: 1.2342 - val_accuracy: 0.6118\n"
     ]
    }
   ],
   "source": [
    "# Set the number of epochs for training\n",
    "num_epochs = 20\n",
    "\n",
    "# Set the batch size for training\n",
    "batch_size = 128\n",
    "\n",
    "# Set the valiation split for training\n",
    "validation_split = 0.2\n",
    "\n",
    "# Fit the model\n",
    "ann_history_1 = ann_model_1.fit(\n",
    "\n",
    "            x_train_norm, y_train_encoded,\n",
    "\n",
    "            epochs = num_epochs,\n",
    "\n",
    "            batch_size= batch_size,\n",
    "\n",
    "            validation_split = validation_split,\n",
    "\n",
    "            verbose = 1\n",
    "\n",
    "            )"
   ]
  },
  {
   "cell_type": "markdown",
   "metadata": {
    "id": "MeF8XSWz0XIU"
   },
   "source": [
    "### **Plot the Training and Validation Accuracies and write down your Observations.**"
   ]
  },
  {
   "cell_type": "code",
   "execution_count": 18,
   "metadata": {
    "colab": {
     "base_uri": "https://localhost:8080/",
     "height": 472
    },
    "id": "MXKDfZFaHhJq",
    "outputId": "6a16a7b4-8a55-4501-e259-ab4a7beb576f"
   },
   "outputs": [
    {
     "data": {
      "image/png": "[encoded data removed]",
      "text/plain": [
       "<Figure size 640x480 with 1 Axes>"
      ]
     },
     "metadata": {},
     "output_type": "display_data"
    }
   ],
   "source": [
    "# create training/validation accuracy plot\n",
    "plt.plot(ann_history_1.history['accuracy'])\n",
    "\n",
    "plt.plot(ann_history_1.history['val_accuracy'])\n",
    "\n",
    "plt.title('Model Accuracy')\n",
    "\n",
    "plt.ylabel('Accuracy')\n",
    "\n",
    "plt.xlabel('Epoch')\n",
    "\n",
    "plt.legend(['Train', 'Validation'], loc = 'upper left')\n",
    "\n",
    "# Display the plot\n",
    "plt.show()"
   ]
  },
  {
   "cell_type": "markdown",
   "metadata": {
    "id": "pGBbQpLONX7k"
   },
   "source": [
    "**Observations - ann_model_1:**\n",
    "- the model does not seem to be overfitting the training data\n",
    "- accuracy is low as it is just over .60, this can likely be improved upon\n",
    "\n"
   ]
  },
  {
   "cell_type": "markdown",
   "metadata": {
    "id": "z0qgLMBZm5-K"
   },
   "source": [
    "Let's build one more model with higher complexity and see if we can improve the performance of the model.\n",
    "\n",
    "First, we need to clear the previous model's history from the Keras backend. Also, let's fix the seed again after clearing the backend."
   ]
  },
  {
   "cell_type": "code",
   "execution_count": 19,
   "metadata": {
    "id": "I_ih3wEU9wIk"
   },
   "outputs": [],
   "source": [
    "#clear backend and set random seed\n",
    "backend.clear_session()\n",
    "np.random.seed(random_seed_val)\n",
    "random.seed(random_seed_val)\n",
    "tf.random.set_seed(random_seed_val)"
   ]
  },
  {
   "cell_type": "markdown",
   "metadata": {
    "id": "f-ZjNBmH0XIV"
   },
   "source": [
    "### **Build and train a second ANN model**"
   ]
  },
  {
   "cell_type": "code",
   "execution_count": 20,
   "metadata": {
    "id": "EEPYLFIPnSDP"
   },
   "outputs": [],
   "source": [
    "def nn_model_2():\n",
    "  # Create a Sequential Object\n",
    "  model = Sequential()\n",
    "\n",
    "  # Add first layer with 256 neurons to the sequental object\n",
    "  model.add(Dense(256, input_shape = (1024, ), activation = 'relu'))\n",
    "\n",
    "  # Add second layer with 128 neurons to the sequental object\n",
    "  model.add(Dense(128, activation = 'relu'))\n",
    "\n",
    "  # Adding dropout to randomly switch off 20% of the network to reduce overfitting\n",
    "  model.add(Dropout(0.20))\n",
    "\n",
    "  # Add dense layer with 64 neurons to the sequental object\n",
    "  model.add(Dense(64, activation = 'relu'))\n",
    "\n",
    "  # Add dense layer with 64 neurons to the sequental object\n",
    "  model.add(Dense(64, activation = 'relu'))\n",
    "\n",
    "  # Add dense layer with 32 neurons to the sequental object\n",
    "  model.add(Dense(32, activation = 'relu'))\n",
    "\n",
    "  # Add batch normalization layer\n",
    "  model.add(BatchNormalization())\n",
    "\n",
    "  # Output layer with 10 neurons (for the ten classes)\n",
    "  model.add(Dense(10,activation = 'softmax'))\n",
    "\n",
    "  # Compile the model\n",
    "  model.compile(loss = 'categorical_crossentropy',\n",
    "              metrics = ['accuracy'],\n",
    "              optimizer = tf.keras.optimizers.Adam(learning_rate=0.0005)\n",
    "              )\n",
    "\n",
    "  return model"
   ]
  },
  {
   "cell_type": "code",
   "execution_count": 21,
   "metadata": {
    "colab": {
     "base_uri": "https://localhost:8080/"
    },
    "id": "pLAU2d_T_ZoJ",
    "outputId": "e2f2edab-e73a-47cd-ea27-eff64c18a863"
   },
   "outputs": [
    {
     "name": "stdout",
     "output_type": "stream",
     "text": [
      "Model: \"sequential\"\n",
      "_________________________________________________________________\n",
      " Layer (type)                Output Shape              Param #   \n",
      "=================================================================\n",
      " dense (Dense)               (None, 256)               262400    \n",
      "                                                                 \n",
      " dense_1 (Dense)             (None, 128)               32896     \n",
      "                                                                 \n",
      " dropout (Dropout)           (None, 128)               0         \n",
      "                                                                 \n",
      " dense_2 (Dense)             (None, 64)                8256      \n",
      "                                                                 \n",
      " dense_3 (Dense)             (None, 64)                4160      \n",
      "                                                                 \n",
      " dense_4 (Dense)             (None, 32)                2080      \n",
      "                                                                 \n",
      " batch_normalization (BatchN  (None, 32)               128       \n",
      " ormalization)                                                   \n",
      "                                                                 \n",
      " dense_5 (Dense)             (None, 10)                330       \n",
      "                                                                 \n",
      "=================================================================\n",
      "Total params: 310,250\n",
      "Trainable params: 310,186\n",
      "Non-trainable params: 64\n",
      "_________________________________________________________________\n"
     ]
    }
   ],
   "source": [
    "ann_model_2 = nn_model_2()\n",
    "ann_model_2.summary()"
   ]
  },
  {
   "cell_type": "code",
   "execution_count": 22,
   "metadata": {
    "colab": {
     "base_uri": "https://localhost:8080/"
    },
    "id": "10PjbYWw_hdb",
    "outputId": "d804bf27-c551-41c6-8190-d900e5ed6d0f"
   },
   "outputs": [
    {
     "name": "stdout",
     "output_type": "stream",
     "text": [
      "Epoch 1/30\n",
      "263/263 [==============================] - 4s 6ms/step - loss: 2.3276 - accuracy: 0.1003 - val_loss: 2.3076 - val_accuracy: 0.0979\n",
      "Epoch 2/30\n",
      "263/263 [==============================] - 1s 5ms/step - loss: 2.3035 - accuracy: 0.1052 - val_loss: 2.2989 - val_accuracy: 0.1051\n",
      "Epoch 3/30\n",
      "263/263 [==============================] - 1s 5ms/step - loss: 2.0806 - accuracy: 0.2295 - val_loss: 1.9587 - val_accuracy: 0.3573\n",
      "Epoch 4/30\n",
      "263/263 [==============================] - 1s 5ms/step - loss: 1.5230 - accuracy: 0.4797 - val_loss: 1.3930 - val_accuracy: 0.5642\n",
      "Epoch 5/30\n",
      "263/263 [==============================] - 1s 5ms/step - loss: 1.2870 - accuracy: 0.5769 - val_loss: 1.2090 - val_accuracy: 0.6019\n",
      "Epoch 6/30\n",
      "263/263 [==============================] - 2s 6ms/step - loss: 1.1876 - accuracy: 0.6152 - val_loss: 1.0819 - val_accuracy: 0.6521\n",
      "Epoch 7/30\n",
      "263/263 [==============================] - 2s 7ms/step - loss: 1.1011 - accuracy: 0.6447 - val_loss: 1.0034 - val_accuracy: 0.6815\n",
      "Epoch 8/30\n",
      "263/263 [==============================] - 2s 7ms/step - loss: 1.0471 - accuracy: 0.6655 - val_loss: 0.9947 - val_accuracy: 0.6843\n",
      "Epoch 9/30\n",
      "263/263 [==============================] - 1s 5ms/step - loss: 1.0105 - accuracy: 0.6757 - val_loss: 0.9991 - val_accuracy: 0.6814\n",
      "Epoch 10/30\n",
      "263/263 [==============================] - 1s 5ms/step - loss: 0.9799 - accuracy: 0.6854 - val_loss: 0.9202 - val_accuracy: 0.7086\n",
      "Epoch 11/30\n",
      "263/263 [==============================] - 1s 5ms/step - loss: 0.9393 - accuracy: 0.7010 - val_loss: 0.8822 - val_accuracy: 0.7226\n",
      "Epoch 12/30\n",
      "263/263 [==============================] - 1s 5ms/step - loss: 0.9159 - accuracy: 0.7091 - val_loss: 0.8987 - val_accuracy: 0.7146\n",
      "Epoch 13/30\n",
      "263/263 [==============================] - 1s 5ms/step - loss: 0.9005 - accuracy: 0.7156 - val_loss: 0.8500 - val_accuracy: 0.7299\n",
      "Epoch 14/30\n",
      "263/263 [==============================] - 2s 6ms/step - loss: 0.8783 - accuracy: 0.7209 - val_loss: 0.8641 - val_accuracy: 0.7249\n",
      "Epoch 15/30\n",
      "263/263 [==============================] - 2s 6ms/step - loss: 0.8712 - accuracy: 0.7232 - val_loss: 0.8107 - val_accuracy: 0.7469\n",
      "Epoch 16/30\n",
      "263/263 [==============================] - 2s 7ms/step - loss: 0.8456 - accuracy: 0.7326 - val_loss: 0.8529 - val_accuracy: 0.7337\n",
      "Epoch 17/30\n",
      "263/263 [==============================] - 2s 6ms/step - loss: 0.8347 - accuracy: 0.7360 - val_loss: 0.7891 - val_accuracy: 0.7583\n",
      "Epoch 18/30\n",
      "263/263 [==============================] - 1s 6ms/step - loss: 0.8126 - accuracy: 0.7419 - val_loss: 0.7988 - val_accuracy: 0.7495\n",
      "Epoch 19/30\n",
      "263/263 [==============================] - 1s 5ms/step - loss: 0.8024 - accuracy: 0.7449 - val_loss: 0.8429 - val_accuracy: 0.7329\n",
      "Epoch 20/30\n",
      "263/263 [==============================] - 1s 5ms/step - loss: 0.7929 - accuracy: 0.7497 - val_loss: 0.7528 - val_accuracy: 0.7651\n",
      "Epoch 21/30\n",
      "263/263 [==============================] - 2s 6ms/step - loss: 0.7807 - accuracy: 0.7505 - val_loss: 0.8466 - val_accuracy: 0.7319\n",
      "Epoch 22/30\n",
      "263/263 [==============================] - 1s 5ms/step - loss: 0.7702 - accuracy: 0.7559 - val_loss: 0.7890 - val_accuracy: 0.7538\n",
      "Epoch 23/30\n",
      "263/263 [==============================] - 2s 6ms/step - loss: 0.7574 - accuracy: 0.7598 - val_loss: 0.7500 - val_accuracy: 0.7679\n",
      "Epoch 24/30\n",
      "263/263 [==============================] - 2s 6ms/step - loss: 0.7594 - accuracy: 0.7564 - val_loss: 0.7544 - val_accuracy: 0.7617\n",
      "Epoch 25/30\n",
      "263/263 [==============================] - 2s 7ms/step - loss: 0.7451 - accuracy: 0.7641 - val_loss: 0.7568 - val_accuracy: 0.7642\n",
      "Epoch 26/30\n",
      "263/263 [==============================] - 2s 6ms/step - loss: 0.7386 - accuracy: 0.7638 - val_loss: 0.7297 - val_accuracy: 0.7739\n",
      "Epoch 27/30\n",
      "263/263 [==============================] - 1s 5ms/step - loss: 0.7364 - accuracy: 0.7633 - val_loss: 0.7429 - val_accuracy: 0.7704\n",
      "Epoch 28/30\n",
      "263/263 [==============================] - 1s 5ms/step - loss: 0.7159 - accuracy: 0.7721 - val_loss: 0.7390 - val_accuracy: 0.7676\n",
      "Epoch 29/30\n",
      "263/263 [==============================] - 1s 5ms/step - loss: 0.7264 - accuracy: 0.7667 - val_loss: 0.7147 - val_accuracy: 0.7783\n",
      "Epoch 30/30\n",
      "263/263 [==============================] - 1s 5ms/step - loss: 0.7065 - accuracy: 0.7750 - val_loss: 0.7206 - val_accuracy: 0.7780\n"
     ]
    }
   ],
   "source": [
    "# Set the number of epochs for training\n",
    "num_epochs = 30\n",
    "\n",
    "# Set the batch size for training\n",
    "batch_size = 128\n",
    "\n",
    "# Set the cvaliation split for training\n",
    "validation_split = 0.2\n",
    "\n",
    "# Fit the model\n",
    "ann_history_2 = ann_model_2.fit(\n",
    "\n",
    "            x_train_norm, y_train_encoded,\n",
    "\n",
    "            epochs = num_epochs,\n",
    "\n",
    "            batch_size= batch_size,\n",
    "\n",
    "            validation_split = validation_split,\n",
    "\n",
    "            verbose = 1\n",
    "            )"
   ]
  },
  {
   "cell_type": "markdown",
   "metadata": {
    "id": "ZJYsvjmw0XIX"
   },
   "source": [
    "### **Plot the Training and Validation Accuracies and write down your Observations.**"
   ]
  },
  {
   "cell_type": "code",
   "execution_count": 23,
   "metadata": {
    "colab": {
     "base_uri": "https://localhost:8080/",
     "height": 472
    },
    "id": "01ig6BrF1KVy",
    "outputId": "96ddf27f-6fb5-4c79-bbd8-3e4a454f8fb2"
   },
   "outputs": [
    {
     "data": {
      "image/png": "[encoded data removed]",
      "text/plain": [
       "<Figure size 640x480 with 1 Axes>"
      ]
     },
     "metadata": {},
     "output_type": "display_data"
    }
   ],
   "source": [
    "plt.plot(ann_history_2.history['accuracy'])\n",
    "\n",
    "plt.plot(ann_history_2.history['val_accuracy'])\n",
    "\n",
    "plt.title('Model Accuracy')\n",
    "\n",
    "plt.ylabel('Accuracy')\n",
    "\n",
    "plt.xlabel('Epoch')\n",
    "\n",
    "plt.legend(['Train', 'Validation'], loc = 'upper left')\n",
    "\n",
    "# Display the plot\n",
    "plt.show()"
   ]
  },
  {
   "cell_type": "markdown",
   "metadata": {
    "id": "VPW1LlD61RDn"
   },
   "source": [
    "**Observations - ann_model_2:**\n",
    "\n",
    "- adding complexity to the network has improved performance\n",
    "- model does not seem to be overfitting the training data\n",
    "- the drop layer and batch normalization layer decrease overfitting, but not as much as might be expected. Without these layers the difference between the training and validation accuracies only increases a tiny bit\n",
    "- the accuracy of this model is substantially better than the last, getting up to almost .80\n"
   ]
  },
  {
   "cell_type": "markdown",
   "metadata": {
    "id": "8kuXx9Bvu00f"
   },
   "source": [
    "## **Predictions on the test data**\n",
    "\n",
    "- Make predictions on the test set using the second model.\n",
    "- Print the obtained results using the classification report and the confusion matrix.\n",
    "- Final observations on the obtained results."
   ]
  },
  {
   "cell_type": "code",
   "execution_count": 24,
   "metadata": {
    "colab": {
     "base_uri": "https://localhost:8080/"
    },
    "id": "xbWMEtTj5Ad0",
    "outputId": "46d1a1ef-aaa1-499d-8cf7-e2060013d799"
   },
   "outputs": [
    {
     "name": "stdout",
     "output_type": "stream",
     "text": [
      "563/563 [==============================] - 1s 2ms/step\n"
     ]
    }
   ],
   "source": [
    "# Here we would get the output as probablities for each category\n",
    "y_pred=ann_model_2.predict(x_test_norm)"
   ]
  },
  {
   "cell_type": "markdown",
   "metadata": {
    "id": "i3li8Ib08yts"
   },
   "source": [
    "**Note:** Earlier, we noticed that each entry of the target variable is a one-hot encoded vector but to print the classification report and confusion matrix, we must convert each entry of y_test to a single label."
   ]
  },
  {
   "cell_type": "code",
   "execution_count": 25,
   "metadata": {
    "id": "NByu7uAQ8x9P"
   },
   "outputs": [],
   "source": [
    "# Obtaining the categorical values from y_test_encoded and y_pred\n",
    "y_pred_arg=np.argmax(y_pred,axis=1)\n",
    "y_test_arg=np.argmax(y_test_encoded,axis=1)"
   ]
  },
  {
   "cell_type": "markdown",
   "metadata": {
    "id": "1_SIoopr0XIg"
   },
   "source": [
    "### **Print the classification report and the confusion matrix for the test predictions. Write your observations on the final results.**"
   ]
  },
  {
   "cell_type": "code",
   "execution_count": 26,
   "metadata": {
    "colab": {
     "base_uri": "https://localhost:8080/",
     "height": 696
    },
    "id": "vR-9T_pF-xxL",
    "outputId": "280f5c80-5a25-4ca1-aa5f-23a8d8eb4724"
   },
   "outputs": [
    {
     "data": {
      "image/png": "[encoded data removed]",
      "text/plain": [
       "<Figure size 1000x800 with 2 Axes>"
      ]
     },
     "metadata": {},
     "output_type": "display_data"
    }
   ],
   "source": [
    "# Plotting the Confusion Matrix using confusion matrix() function which is also predefined tensorflow module\n",
    "confusion_matrix = tf.math.confusion_matrix(y_test_arg,y_pred_arg)\n",
    "f, ax = plt.subplots(figsize=(10, 8))\n",
    "sns.heatmap(\n",
    "    confusion_matrix,\n",
    "    annot=True,\n",
    "    linewidths=.4,\n",
    "    fmt=\"d\",\n",
    "    square=True,\n",
    "    ax=ax\n",
    ")\n",
    "plt.ylabel('Actual')\n",
    "plt.xlabel('Predicted')\n",
    "plt.show()"
   ]
  },
  {
   "cell_type": "code",
   "execution_count": 27,
   "metadata": {
    "colab": {
     "base_uri": "https://localhost:8080/"
    },
    "id": "xRddeJ-3EHT1",
    "outputId": "b0e0986d-aa6f-41a5-9fde-a36e72a705dc"
   },
   "outputs": [
    {
     "name": "stdout",
     "output_type": "stream",
     "text": [
      "              precision    recall  f1-score   support\n",
      "\n",
      "           0       0.80      0.80      0.80      1814\n",
      "           1       0.75      0.84      0.79      1828\n",
      "           2       0.80      0.78      0.79      1803\n",
      "           3       0.77      0.71      0.74      1719\n",
      "           4       0.81      0.84      0.82      1812\n",
      "           5       0.73      0.76      0.74      1768\n",
      "           6       0.76      0.79      0.77      1832\n",
      "           7       0.79      0.84      0.82      1808\n",
      "           8       0.75      0.72      0.74      1812\n",
      "           9       0.82      0.71      0.76      1804\n",
      "\n",
      "    accuracy                           0.78     18000\n",
      "   macro avg       0.78      0.78      0.78     18000\n",
      "weighted avg       0.78      0.78      0.78     18000\n",
      "\n"
     ]
    }
   ],
   "source": [
    "#Accuracy as per the classification report\n",
    "cr=metrics.classification_report(y_test_arg,y_pred_arg)\n",
    "print(cr)"
   ]
  },
  {
   "cell_type": "markdown",
   "metadata": {
    "id": "DjErl4GA2u9s"
   },
   "source": [
    "**Final Observations:**\n",
    "\n",
    "- ann_model_2 has an accuracy of about .78\n",
    "- ann_model_2 is an improvement over ann_model_1, but it seems likey that we can create a model with even better accuracy\n",
    "- it is most common mistake for ann_model_2 is to mislabel a 2 as a 7\n",
    "- ann_model_2 also shows a high number of mistakes labeling 1's as 7's and labeling 5's as 3's\n",
    "\n",
    "- because overfitting does not seem to be an issue, we should add to the complexity of the ANN to see if it will improve our accuracy"
   ]
  },
  {
   "cell_type": "markdown",
   "metadata": {
    "id": "xkR4JioMsuIV"
   },
   "source": [
    "## **Using Convolutional Neural Networks**"
   ]
  },
  {
   "cell_type": "markdown",
   "metadata": {
    "id": "YN2YgkGL_6xQ"
   },
   "source": [
    "### **Load the dataset again and split the data into the train and the test dataset.**"
   ]
  },
  {
   "cell_type": "code",
   "execution_count": 28,
   "metadata": {
    "id": "mqM204HbAjP2",
    "scrolled": true
   },
   "outputs": [],
   "source": [
    "# open the hdf5 file\n",
    "hdf = h5py.File('/content/drive/My Drive/MIT_DataScience/Elective Project/SVHN_single_grey1.h5', 'r')\n",
    "\n",
    "# get training data\n",
    "X_train = hdf.get('X_train')\n",
    "y_train = hdf.get('y_train')\n",
    "X_train = X_train[()] # this gets the actual dataframe from the hdf file object\n",
    "y_train = y_train[()]\n",
    "\n",
    "# get test data\n",
    "X_test = hdf.get('X_test')\n",
    "y_test = hdf.get('y_test')\n",
    "X_test = X_test[()]\n",
    "y_test = y_test[()]\n",
    "\n",
    "hdf.close()"
   ]
  },
  {
   "cell_type": "markdown",
   "metadata": {
    "id": "6fPqF_xGAjQB"
   },
   "source": [
    "Check the number of images in the training and the testing dataset."
   ]
  },
  {
   "cell_type": "code",
   "execution_count": 29,
   "metadata": {
    "colab": {
     "base_uri": "https://localhost:8080/"
    },
    "id": "gTLJZWjPAjQB",
    "outputId": "19428ddc-df81-4a4a-c19f-e4fdeb7643e2"
   },
   "outputs": [
    {
     "name": "stdout",
     "output_type": "stream",
     "text": [
      "x_train: (42000, 32, 32)\n",
      "y_train: (42000,)\n",
      "\n",
      "x_test: (18000, 32, 32)\n",
      "y_test: (18000,)\n"
     ]
    }
   ],
   "source": [
    "# Print the shapes of Training and Test data\n",
    "print(\"x_train:\",X_train.shape)\n",
    "print(\"y_train:\",y_train.shape)\n",
    "print(\"\")\n",
    "print(\"x_test:\",X_test.shape)\n",
    "print(\"y_test:\",y_test.shape)"
   ]
  },
  {
   "cell_type": "markdown",
   "metadata": {
    "id": "9qyMiP_rAjQB"
   },
   "source": [
    "**Observation:**\n",
    "- training and testing datasets are the same as before\n",
    "-  42,000 training images/labels and 18,000 testing images/labels\n",
    "- images are 32x32 pixels\n"
   ]
  },
  {
   "cell_type": "markdown",
   "metadata": {
    "id": "OJndFfEVAjQG"
   },
   "source": [
    "## **Data preparation**\n",
    "\n",
    "- Print the shape and the array of pixels for the first image in the training dataset.\n",
    "- Reshape the train and the test dataset because we always have to give a 4D array as input to CNNs.\n",
    "- Normalize the train and the test dataset by dividing by 255.\n",
    "- Print the new shapes of the train and the test dataset.\n",
    "- One-hot encode the target variable."
   ]
  },
  {
   "cell_type": "code",
   "execution_count": 30,
   "metadata": {
    "colab": {
     "base_uri": "https://localhost:8080/"
    },
    "id": "W4uXqKz1AjQG",
    "outputId": "de25ee93-f4e7-4999-ba25-bea987cde059"
   },
   "outputs": [
    {
     "name": "stdout",
     "output_type": "stream",
     "text": [
      "Shape and array of first image in training dataset:\n",
      "Shape: (32, 32)\n",
      "[[ 33.0704  30.2601  26.852  ...  71.4471  58.2204  42.9939]\n",
      " [ 25.2283  25.5533  29.9765 ... 113.0209 103.3639  84.2949]\n",
      " [ 26.2775  22.6137  40.4763 ... 113.3028 121.775  115.4228]\n",
      " ...\n",
      " [ 28.5502  36.212   45.0801 ...  24.1359  25.0927  26.0603]\n",
      " [ 38.4352  26.4733  23.2717 ...  28.1094  29.4683  30.0661]\n",
      " [ 50.2984  26.0773  24.0389 ...  49.6682  50.853   53.0377]]\n"
     ]
    }
   ],
   "source": [
    "# Print the shape and the array of pixels for the first image in the training dataset\n",
    "print(\"Shape and array of first image in training dataset:\")\n",
    "print(\"Shape:\",X_train[0].shape)\n",
    "print(X_train[0])"
   ]
  },
  {
   "cell_type": "markdown",
   "metadata": {
    "id": "at30iiX1__7F"
   },
   "source": [
    "Reshape the dataset to be able to pass them to CNNs. Remember that we always have to give a 4D array as input to CNNs"
   ]
  },
  {
   "cell_type": "code",
   "execution_count": 31,
   "metadata": {
    "id": "D9YPwf9ysqWU"
   },
   "outputs": [],
   "source": [
    "# Reshaping the training and the testing data\n",
    "X_train = X_train.reshape(42000, 32, 32, 1)\n",
    "X_test = X_test.reshape(18000, 32, 32, 1)"
   ]
  },
  {
   "cell_type": "markdown",
   "metadata": {
    "id": "ODYnoLfaAEGx"
   },
   "source": [
    "Normalize inputs from 0-255 to 0-1"
   ]
  },
  {
   "cell_type": "code",
   "execution_count": 32,
   "metadata": {
    "id": "eOGLAn40AjQG"
   },
   "outputs": [],
   "source": [
    "# Normalizing the image pixels\n",
    "x_train_norm = X_train.astype('float32')/255.0\n",
    "x_test_norm = X_test.astype('float32')/255.0"
   ]
  },
  {
   "cell_type": "markdown",
   "metadata": {
    "id": "cS9T4HqjAoyM"
   },
   "source": [
    "Print New shape of Training and Test"
   ]
  },
  {
   "cell_type": "code",
   "execution_count": 33,
   "metadata": {
    "colab": {
     "base_uri": "https://localhost:8080/"
    },
    "id": "5qf8S5NQAjQG",
    "outputId": "a63a7815-06f8-4015-bad1-f7e632d4667e"
   },
   "outputs": [
    {
     "name": "stdout",
     "output_type": "stream",
     "text": [
      "x_train_norm shape: (42000, 32, 32, 1)\n",
      "x_test_norm shape: (18000, 32, 32, 1)\n"
     ]
    }
   ],
   "source": [
    "print(\"x_train_norm shape:\",x_train_norm.shape)\n",
    "print(\"x_test_norm shape:\",x_test_norm.shape)"
   ]
  },
  {
   "cell_type": "markdown",
   "metadata": {
    "id": "10QaOV-xR7Jn"
   },
   "source": [
    "### **One-hot encode the labels in the target variable y_train and y_test.**"
   ]
  },
  {
   "cell_type": "code",
   "execution_count": 34,
   "metadata": {
    "id": "3KHWFWKMAjQH"
   },
   "outputs": [],
   "source": [
    "# Creating one-hot encoded representation of target labels\n",
    "y_train_encoded = tf.keras.utils.to_categorical(y_train)\n",
    "\n",
    "y_test_encoded = tf.keras.utils.to_categorical(y_test)"
   ]
  },
  {
   "cell_type": "code",
   "execution_count": 35,
   "metadata": {
    "colab": {
     "base_uri": "https://localhost:8080/"
    },
    "id": "-yf4G9ZRIKB3",
    "outputId": "50cce037-88c1-4b22-96ff-0633d405249c"
   },
   "outputs": [
    {
     "name": "stdout",
     "output_type": "stream",
     "text": [
      "y_train_encoded:\n",
      "[[0. 0. 1. ... 0. 0. 0.]\n",
      " [0. 0. 0. ... 0. 0. 0.]\n",
      " [0. 0. 0. ... 1. 0. 0.]\n",
      " ...\n",
      " [0. 0. 0. ... 1. 0. 0.]\n",
      " [1. 0. 0. ... 0. 0. 0.]\n",
      " [0. 0. 0. ... 0. 0. 0.]]\n",
      "<class 'numpy.ndarray'>\n",
      "- - - - - - - -\n",
      "y_train shape:, (42000,)\n",
      "y_train_encoded shape: (42000, 10)\n",
      "y_test shape:, (18000,)\n",
      "y_test_encoded shape: (18000, 10)\n"
     ]
    }
   ],
   "source": [
    "# print y_train_encoded and dataframe shapes to check encoding worked properly\n",
    "print(\"y_train_encoded:\")\n",
    "print(y_train_encoded)\n",
    "print(type(y_train_encoded))\n",
    "print(\"- - - - - - - -\")\n",
    "print(\"y_train shape:,\",y_train.shape)\n",
    "print(\"y_train_encoded shape:\",y_train_encoded.shape)\n",
    "print(\"y_test shape:,\",y_test.shape)\n",
    "print(\"y_test_encoded shape:\",y_test_encoded.shape)"
   ]
  },
  {
   "cell_type": "markdown",
   "metadata": {
    "id": "H-8jYVQTAjQH"
   },
   "source": [
    "**Observation:**\n",
    "- encoding was successful\n",
    "- once again, the shape of the test and training answers has changed as the data is now a numpy array as opposed to a single number\n",
    "- There are still 42,000 entries in the training dataset and 18,000 entries in the testing dataset\n"
   ]
  },
  {
   "cell_type": "markdown",
   "metadata": {
    "id": "Vjx_LI4_AjQH"
   },
   "source": [
    "## **Model Building**\n",
    "\n",
    "Now that we have done data preprocessing, let's build a CNN model.\n",
    "Fix the seed for random number generators"
   ]
  },
  {
   "cell_type": "code",
   "execution_count": 36,
   "metadata": {
    "id": "ZY5pyF4-KDNt"
   },
   "outputs": [],
   "source": [
    "#clear backend and set random seed\n",
    "backend.clear_session()\n",
    "np.random.seed(random_seed_val)\n",
    "random.seed(random_seed_val)\n",
    "tf.random.set_seed(random_seed_val)"
   ]
  },
  {
   "cell_type": "markdown",
   "metadata": {
    "id": "JWsAd45JKDNu"
   },
   "source": [
    "### **Build and train a CNN model.**"
   ]
  },
  {
   "cell_type": "code",
   "execution_count": 37,
   "metadata": {
    "id": "L1jOYANWAjQH"
   },
   "outputs": [],
   "source": [
    "def cnn_model_1():\n",
    "  # Intializing a sequential model\n",
    "  model1 = Sequential()\n",
    "\n",
    "  # Adding first conv layer with 16 filters and kernel size 3x3 , padding 'same,' provides the output size same as the input size\n",
    "  model1.add(Conv2D(16, (3, 3), padding=\"same\", input_shape=(32, 32, 1)))\n",
    "\n",
    "  # Adding LeakyRelu activation function with a slope of 0.1\n",
    "  model1.add(LeakyReLU(0.1))\n",
    "\n",
    "  # Adding conv layer with 32 filters and kernel size 3x3 , padding 'same'\n",
    "  model1.add(Conv2D(32, (3, 3), padding=\"same\"))\n",
    "\n",
    "  # Adding another LeakyRelu activation function with a slope of 0.1\n",
    "  model1.add(LeakyReLU(0.1))\n",
    "\n",
    "  # Adding max pooling layer\n",
    "  model1.add(MaxPooling2D((2, 2)))\n",
    "\n",
    "  # flattening the output of the conv layer after max pooling to make it ready for creating dense connections\n",
    "  model1.add(Flatten())\n",
    "\n",
    "  # Adding a fully connected dense layer with 100 neurons\n",
    "  model1.add(Dense(32))\n",
    "\n",
    "  # Adding another LeakyRelu activation function with a slope of 0.1\n",
    "  model1.add(LeakyReLU(0.1))\n",
    "\n",
    "  # Adding the output layer with 10 neurons and activation functions as softmax since this is a multi-class classification problem\n",
    "  model1.add(Dense(10, activation='softmax'))\n",
    "\n",
    "  # Compile model\n",
    "  model1.compile(loss = 'categorical_crossentropy',\n",
    "              metrics = ['accuracy'],\n",
    "              optimizer=tf.keras.optimizers.Adam(learning_rate=0.001))\n",
    "\n",
    "  return model1"
   ]
  },
  {
   "cell_type": "code",
   "execution_count": 38,
   "metadata": {
    "colab": {
     "base_uri": "https://localhost:8080/"
    },
    "id": "3hTVxB-LZ4pI",
    "outputId": "9f2cdd53-8fee-449e-91eb-82a9ce12c0be"
   },
   "outputs": [
    {
     "name": "stdout",
     "output_type": "stream",
     "text": [
      "Model: \"sequential\"\n",
      "_________________________________________________________________\n",
      " Layer (type)                Output Shape              Param #   \n",
      "=================================================================\n",
      " conv2d (Conv2D)             (None, 32, 32, 16)        160       \n",
      "                                                                 \n",
      " leaky_re_lu (LeakyReLU)     (None, 32, 32, 16)        0         \n",
      "                                                                 \n",
      " conv2d_1 (Conv2D)           (None, 32, 32, 32)        4640      \n",
      "                                                                 \n",
      " leaky_re_lu_1 (LeakyReLU)   (None, 32, 32, 32)        0         \n",
      "                                                                 \n",
      " max_pooling2d (MaxPooling2D  (None, 16, 16, 32)       0         \n",
      " )                                                               \n",
      "                                                                 \n",
      " flatten (Flatten)           (None, 8192)              0         \n",
      "                                                                 \n",
      " dense (Dense)               (None, 32)                262176    \n",
      "                                                                 \n",
      " leaky_re_lu_2 (LeakyReLU)   (None, 32)                0         \n",
      "                                                                 \n",
      " dense_1 (Dense)             (None, 10)                330       \n",
      "                                                                 \n",
      "=================================================================\n",
      "Total params: 267,306\n",
      "Trainable params: 267,306\n",
      "Non-trainable params: 0\n",
      "_________________________________________________________________\n"
     ]
    }
   ],
   "source": [
    "cnn_model_1 = cnn_model_1()\n",
    "# Generating the summary of the model\n",
    "cnn_model_1.summary()"
   ]
  },
  {
   "cell_type": "code",
   "execution_count": 39,
   "metadata": {
    "colab": {
     "base_uri": "https://localhost:8080/"
    },
    "id": "OWLcvBhcZ41F",
    "outputId": "ccafb014-e8d0-41aa-d991-c4cae26ccc0f"
   },
   "outputs": [
    {
     "name": "stdout",
     "output_type": "stream",
     "text": [
      "Epoch 1/20\n",
      "1050/1050 [==============================] - 11s 4ms/step - loss: 1.1186 - accuracy: 0.6335 - val_loss: 0.6518 - val_accuracy: 0.8100\n",
      "Epoch 2/20\n",
      "1050/1050 [==============================] - 4s 4ms/step - loss: 0.5354 - accuracy: 0.8481 - val_loss: 0.5192 - val_accuracy: 0.8524\n",
      "Epoch 3/20\n",
      "1050/1050 [==============================] - 5s 5ms/step - loss: 0.4460 - accuracy: 0.8688 - val_loss: 0.5108 - val_accuracy: 0.8532\n",
      "Epoch 4/20\n",
      "1050/1050 [==============================] - 4s 4ms/step - loss: 0.3855 - accuracy: 0.8885 - val_loss: 0.4523 - val_accuracy: 0.8736\n",
      "Epoch 5/20\n",
      "1050/1050 [==============================] - 4s 4ms/step - loss: 0.3400 - accuracy: 0.8977 - val_loss: 0.4479 - val_accuracy: 0.8735\n",
      "Epoch 6/20\n",
      "1050/1050 [==============================] - 6s 5ms/step - loss: 0.3035 - accuracy: 0.9096 - val_loss: 0.4589 - val_accuracy: 0.8713\n",
      "Epoch 7/20\n",
      "1050/1050 [==============================] - 4s 4ms/step - loss: 0.2725 - accuracy: 0.9178 - val_loss: 0.4609 - val_accuracy: 0.8736\n",
      "Epoch 8/20\n",
      "1050/1050 [==============================] - 4s 4ms/step - loss: 0.2417 - accuracy: 0.9264 - val_loss: 0.4915 - val_accuracy: 0.8701\n",
      "Epoch 9/20\n",
      "1050/1050 [==============================] - 5s 5ms/step - loss: 0.2202 - accuracy: 0.9328 - val_loss: 0.4693 - val_accuracy: 0.8800\n",
      "Epoch 10/20\n",
      "1050/1050 [==============================] - 4s 4ms/step - loss: 0.1960 - accuracy: 0.9401 - val_loss: 0.4911 - val_accuracy: 0.8787\n",
      "Epoch 11/20\n",
      "1050/1050 [==============================] - 4s 4ms/step - loss: 0.1761 - accuracy: 0.9455 - val_loss: 0.5404 - val_accuracy: 0.8698\n",
      "Epoch 12/20\n",
      "1050/1050 [==============================] - 5s 5ms/step - loss: 0.1563 - accuracy: 0.9506 - val_loss: 0.5399 - val_accuracy: 0.8732\n",
      "Epoch 13/20\n",
      "1050/1050 [==============================] - 4s 4ms/step - loss: 0.1355 - accuracy: 0.9572 - val_loss: 0.6264 - val_accuracy: 0.8649\n",
      "Epoch 14/20\n",
      "1050/1050 [==============================] - 5s 4ms/step - loss: 0.1285 - accuracy: 0.9589 - val_loss: 0.6391 - val_accuracy: 0.8657\n",
      "Epoch 15/20\n",
      "1050/1050 [==============================] - 6s 5ms/step - loss: 0.1125 - accuracy: 0.9648 - val_loss: 0.6407 - val_accuracy: 0.8694\n",
      "Epoch 16/20\n",
      "1050/1050 [==============================] - 4s 4ms/step - loss: 0.1064 - accuracy: 0.9657 - val_loss: 0.6768 - val_accuracy: 0.8648\n",
      "Epoch 17/20\n",
      "1050/1050 [==============================] - 6s 5ms/step - loss: 0.0968 - accuracy: 0.9683 - val_loss: 0.6792 - val_accuracy: 0.8748\n",
      "Epoch 18/20\n",
      "1050/1050 [==============================] - 5s 5ms/step - loss: 0.0838 - accuracy: 0.9735 - val_loss: 0.7606 - val_accuracy: 0.8648\n",
      "Epoch 19/20\n",
      "1050/1050 [==============================] - 4s 4ms/step - loss: 0.0779 - accuracy: 0.9755 - val_loss: 0.7738 - val_accuracy: 0.8667\n",
      "Epoch 20/20\n",
      "1050/1050 [==============================] - 6s 5ms/step - loss: 0.0702 - accuracy: 0.9763 - val_loss: 0.8035 - val_accuracy: 0.8652\n"
     ]
    }
   ],
   "source": [
    "# Set the number of epochs for training\n",
    "num_epochs = 20\n",
    "\n",
    "# Set the batch size for training\n",
    "batch_size = 32\n",
    "\n",
    "# Set the cvaliation split for training\n",
    "validation_split = 0.2\n",
    "\n",
    "# Fit the model\n",
    "cnn_history_1 = cnn_model_1.fit(\n",
    "\n",
    "            x_train_norm, y_train_encoded,\n",
    "\n",
    "            epochs = num_epochs,\n",
    "\n",
    "            batch_size= batch_size,\n",
    "\n",
    "            validation_split = validation_split,\n",
    "\n",
    "            verbose = 1\n",
    "            )"
   ]
  },
  {
   "cell_type": "markdown",
   "metadata": {
    "id": "JPzfIf9kKDNw"
   },
   "source": [
    "### **Plot the Training and Validation Accuracies and Write your observations.**"
   ]
  },
  {
   "cell_type": "code",
   "execution_count": 40,
   "metadata": {
    "colab": {
     "base_uri": "https://localhost:8080/",
     "height": 472
    },
    "id": "07oUCr1kAjQH",
    "outputId": "788d907a-915a-4d53-b6e2-f4a50c16f81e"
   },
   "outputs": [
    {
     "data": {
      "image/png": "[encoded data removed]",
      "text/plain": [
       "<Figure size 640x480 with 1 Axes>"
      ]
     },
     "metadata": {},
     "output_type": "display_data"
    }
   ],
   "source": [
    "plt.plot(cnn_history_1.history['accuracy'])\n",
    "\n",
    "plt.plot(cnn_history_1.history['val_accuracy'])\n",
    "\n",
    "plt.title('Model Accuracy')\n",
    "\n",
    "plt.ylabel('Accuracy')\n",
    "\n",
    "plt.xlabel('Epoch')\n",
    "\n",
    "plt.legend(['Train', 'Validation'], loc = 'upper left')\n",
    "\n",
    "# Display the plot\n",
    "plt.show()"
   ]
  },
  {
   "cell_type": "markdown",
   "metadata": {
    "id": "P6zTLyp9AjQH"
   },
   "source": [
    "**Observations: cnn_model_1**\n",
    "- while the training accuracy is very high, this model appears to be very overfit to the training data\n",
    "- after about 5 epochs validation accuracy does not seem to improve\n",
    "- however, with an accuracy at about .86 on the validation data, this is the best model we've seen yet"
   ]
  },
  {
   "cell_type": "markdown",
   "metadata": {
    "id": "Ukvtg2eMAjQH"
   },
   "source": [
    "Let's build another model and see if we can get a better model with generalized performance.\n",
    "\n",
    "First, we need to clear the previous model's history from the Keras backend. Also, let's fix the seed again after clearing the backend."
   ]
  },
  {
   "cell_type": "code",
   "execution_count": 41,
   "metadata": {
    "id": "HbKi93HTolGW"
   },
   "outputs": [],
   "source": [
    "#clear backend and set random seed\n",
    "backend.clear_session()\n",
    "np.random.seed(random_seed_val)\n",
    "random.seed(random_seed_val)\n",
    "tf.random.set_seed(random_seed_val)"
   ]
  },
  {
   "cell_type": "markdown",
   "metadata": {
    "id": "y5IBLS1eKDNy"
   },
   "source": [
    "### **Build and train a second CNN model**"
   ]
  },
  {
   "cell_type": "code",
   "execution_count": 42,
   "metadata": {
    "id": "wk9sl2UEAjQH"
   },
   "outputs": [],
   "source": [
    "def cnn_model_2():\n",
    "  # Intializing a sequential model\n",
    "  model_2 = Sequential()\n",
    "\n",
    "  # Adding first conv layer with 16 filters and kernel size 3x3 , padding 'same,' provides the output size same as the input size\n",
    "  model_2.add(Conv2D(16, (3, 3), padding=\"same\", input_shape=(32, 32, 1)))\n",
    "  # Adding LeakyRelu activation function with a slope of 0.1\n",
    "  model_2.add(LeakyReLU(0.1))\n",
    "  # Adding second conv layer with 32 filters and kernel size 3x3 , padding 'same'\n",
    "  model_2.add(Conv2D(32, (3, 3), padding=\"same\"))\n",
    "  # Adding another LeakyRelu activation function with a slope of 0.1\n",
    "  model_2.add(LeakyReLU(0.1))\n",
    "  # Adding max pooling layer\n",
    "  model_2.add(MaxPooling2D(pool_size=(2, 2)))\n",
    "  # Add batch normalization layer\n",
    "  model_2.add(BatchNormalization())\n",
    "  # Adding third conv layer with 32 filters and kernel size 3x3 , padding 'same'\n",
    "  model_2.add(Conv2D(32, (3, 3), padding=\"same\"))\n",
    "  # Adding another LeakyRelu activation function with a slope of 0.1\n",
    "  model_2.add(LeakyReLU(0.1))\n",
    "  # Adding fourth conv layer with 64 filters and kernel size 3x3 , padding 'same'\n",
    "  model_2.add(Conv2D(64, (3, 3), padding=\"same\"))\n",
    "  # Adding another LeakyRelu activation function with a slope of 0.1\n",
    "  model_2.add(LeakyReLU(0.1))\n",
    "  # Adding max pooling layer\n",
    "  model_2.add(MaxPooling2D(pool_size=(2, 2)))\n",
    "  # Add batch normalization layer\n",
    "  model_2.add(BatchNormalization())\n",
    "  # flattening the output of the conv layer after max pooling to make it ready for creating dense connections\n",
    "  model_2.add(Flatten())\n",
    "  # Adding a fully connected dense layer with 32 nodes\n",
    "  model_2.add(Dense(32))\n",
    "  # Adding another LeakyRelu activation function with a slope of 0.1\n",
    "  model_2.add(LeakyReLU(0.1))\n",
    "  # Adding dropout to randomly switch off 50% of the network to reduce overfitting\n",
    "  model_2.add(Dropout(0.50))\n",
    "\n",
    "  # Adding the output layer with 10 neurons and activation functions as softmax since this is a multi-class classification problem\n",
    "  model_2.add(Dense(10, activation='softmax'))\n",
    "\n",
    "  # Compile model\n",
    "  model_2.compile(loss = 'categorical_crossentropy',\n",
    "              metrics = ['accuracy'],\n",
    "              optimizer=tf.keras.optimizers.Adam(learning_rate=0.001))\n",
    "\n",
    "  return model_2"
   ]
  },
  {
   "cell_type": "code",
   "execution_count": 43,
   "metadata": {
    "colab": {
     "base_uri": "https://localhost:8080/"
    },
    "id": "08aPWBIxkHKu",
    "outputId": "c18292d8-5345-4bcf-cf77-e3e00a5813f2"
   },
   "outputs": [
    {
     "name": "stdout",
     "output_type": "stream",
     "text": [
      "Model: \"sequential\"\n",
      "_________________________________________________________________\n",
      " Layer (type)                Output Shape              Param #   \n",
      "=================================================================\n",
      " conv2d (Conv2D)             (None, 32, 32, 16)        160       \n",
      "                                                                 \n",
      " leaky_re_lu (LeakyReLU)     (None, 32, 32, 16)        0         \n",
      "                                                                 \n",
      " conv2d_1 (Conv2D)           (None, 32, 32, 32)        4640      \n",
      "                                                                 \n",
      " leaky_re_lu_1 (LeakyReLU)   (None, 32, 32, 32)        0         \n",
      "                                                                 \n",
      " max_pooling2d (MaxPooling2D  (None, 16, 16, 32)       0         \n",
      " )                                                               \n",
      "                                                                 \n",
      " batch_normalization (BatchN  (None, 16, 16, 32)       128       \n",
      " ormalization)                                                   \n",
      "                                                                 \n",
      " conv2d_2 (Conv2D)           (None, 16, 16, 32)        9248      \n",
      "                                                                 \n",
      " leaky_re_lu_2 (LeakyReLU)   (None, 16, 16, 32)        0         \n",
      "                                                                 \n",
      " conv2d_3 (Conv2D)           (None, 16, 16, 64)        18496     \n",
      "                                                                 \n",
      " leaky_re_lu_3 (LeakyReLU)   (None, 16, 16, 64)        0         \n",
      "                                                                 \n",
      " max_pooling2d_1 (MaxPooling  (None, 8, 8, 64)         0         \n",
      " 2D)                                                             \n",
      "                                                                 \n",
      " batch_normalization_1 (Batc  (None, 8, 8, 64)         256       \n",
      " hNormalization)                                                 \n",
      "                                                                 \n",
      " flatten (Flatten)           (None, 4096)              0         \n",
      "                                                                 \n",
      " dense (Dense)               (None, 32)                131104    \n",
      "                                                                 \n",
      " leaky_re_lu_4 (LeakyReLU)   (None, 32)                0         \n",
      "                                                                 \n",
      " dropout (Dropout)           (None, 32)                0         \n",
      "                                                                 \n",
      " dense_1 (Dense)             (None, 10)                330       \n",
      "                                                                 \n",
      "=================================================================\n",
      "Total params: 164,362\n",
      "Trainable params: 164,170\n",
      "Non-trainable params: 192\n",
      "_________________________________________________________________\n"
     ]
    }
   ],
   "source": [
    "# get model\n",
    "cnn_model_2 = cnn_model_2()\n",
    "# Generating the summary of the model\n",
    "cnn_model_2.summary()"
   ]
  },
  {
   "cell_type": "code",
   "execution_count": 44,
   "metadata": {
    "colab": {
     "base_uri": "https://localhost:8080/"
    },
    "id": "h4W-1ApxkZXC",
    "outputId": "e52cb3c8-095a-4f9f-cceb-77b724b43e9e"
   },
   "outputs": [
    {
     "name": "stdout",
     "output_type": "stream",
     "text": [
      "Epoch 1/30\n",
      "263/263 [==============================] - 7s 14ms/step - loss: 1.3312 - accuracy: 0.5465 - val_loss: 1.7936 - val_accuracy: 0.3876\n",
      "Epoch 2/30\n",
      "263/263 [==============================] - 2s 9ms/step - loss: 0.6670 - accuracy: 0.7940 - val_loss: 0.5452 - val_accuracy: 0.8480\n",
      "Epoch 3/30\n",
      "263/263 [==============================] - 2s 9ms/step - loss: 0.5473 - accuracy: 0.8330 - val_loss: 0.4394 - val_accuracy: 0.8725\n",
      "Epoch 4/30\n",
      "263/263 [==============================] - 3s 10ms/step - loss: 0.4872 - accuracy: 0.8512 - val_loss: 0.3991 - val_accuracy: 0.8862\n",
      "Epoch 5/30\n",
      "263/263 [==============================] - 3s 10ms/step - loss: 0.4324 - accuracy: 0.8650 - val_loss: 0.4252 - val_accuracy: 0.8819\n",
      "Epoch 6/30\n",
      "263/263 [==============================] - 3s 11ms/step - loss: 0.4003 - accuracy: 0.8777 - val_loss: 0.4225 - val_accuracy: 0.8761\n",
      "Epoch 7/30\n",
      "263/263 [==============================] - 2s 9ms/step - loss: 0.3825 - accuracy: 0.8834 - val_loss: 0.3909 - val_accuracy: 0.8908\n",
      "Epoch 8/30\n",
      "263/263 [==============================] - 2s 9ms/step - loss: 0.3416 - accuracy: 0.8908 - val_loss: 0.3533 - val_accuracy: 0.9051\n",
      "Epoch 9/30\n",
      "263/263 [==============================] - 2s 9ms/step - loss: 0.3239 - accuracy: 0.8984 - val_loss: 0.3788 - val_accuracy: 0.8976\n",
      "Epoch 10/30\n",
      "263/263 [==============================] - 3s 11ms/step - loss: 0.3126 - accuracy: 0.9029 - val_loss: 0.4362 - val_accuracy: 0.8688\n",
      "Epoch 11/30\n",
      "263/263 [==============================] - 3s 11ms/step - loss: 0.2885 - accuracy: 0.9093 - val_loss: 0.3813 - val_accuracy: 0.9013\n",
      "Epoch 12/30\n",
      "263/263 [==============================] - 2s 9ms/step - loss: 0.2785 - accuracy: 0.9110 - val_loss: 0.4837 - val_accuracy: 0.8668\n",
      "Epoch 13/30\n",
      "263/263 [==============================] - 3s 10ms/step - loss: 0.2618 - accuracy: 0.9162 - val_loss: 0.3590 - val_accuracy: 0.9061\n",
      "Epoch 14/30\n",
      "263/263 [==============================] - 2s 9ms/step - loss: 0.2540 - accuracy: 0.9174 - val_loss: 0.3619 - val_accuracy: 0.9098\n",
      "Epoch 15/30\n",
      "263/263 [==============================] - 2s 9ms/step - loss: 0.2438 - accuracy: 0.9220 - val_loss: 0.3837 - val_accuracy: 0.9070\n",
      "Epoch 16/30\n",
      "263/263 [==============================] - 3s 12ms/step - loss: 0.2287 - accuracy: 0.9253 - val_loss: 0.3602 - val_accuracy: 0.9111\n",
      "Epoch 17/30\n",
      "263/263 [==============================] - 3s 10ms/step - loss: 0.2161 - accuracy: 0.9300 - val_loss: 0.3943 - val_accuracy: 0.9126\n",
      "Epoch 18/30\n",
      "263/263 [==============================] - 3s 10ms/step - loss: 0.2103 - accuracy: 0.9316 - val_loss: 0.3897 - val_accuracy: 0.9056\n",
      "Epoch 19/30\n",
      "263/263 [==============================] - 2s 9ms/step - loss: 0.2041 - accuracy: 0.9339 - val_loss: 0.3962 - val_accuracy: 0.9132\n",
      "Epoch 20/30\n",
      "263/263 [==============================] - 2s 9ms/step - loss: 0.1962 - accuracy: 0.9352 - val_loss: 0.4249 - val_accuracy: 0.9057\n",
      "Epoch 21/30\n",
      "263/263 [==============================] - 3s 12ms/step - loss: 0.1905 - accuracy: 0.9359 - val_loss: 0.4063 - val_accuracy: 0.9089\n",
      "Epoch 22/30\n",
      "263/263 [==============================] - 3s 10ms/step - loss: 0.1862 - accuracy: 0.9379 - val_loss: 0.3954 - val_accuracy: 0.9090\n",
      "Epoch 23/30\n",
      "263/263 [==============================] - 3s 10ms/step - loss: 0.1840 - accuracy: 0.9399 - val_loss: 0.4108 - val_accuracy: 0.9121\n",
      "Epoch 24/30\n",
      "263/263 [==============================] - 3s 10ms/step - loss: 0.1733 - accuracy: 0.9435 - val_loss: 0.4687 - val_accuracy: 0.8979\n",
      "Epoch 25/30\n",
      "263/263 [==============================] - 3s 10ms/step - loss: 0.1636 - accuracy: 0.9442 - val_loss: 0.4430 - val_accuracy: 0.9146\n",
      "Epoch 26/30\n",
      "263/263 [==============================] - 3s 11ms/step - loss: 0.1669 - accuracy: 0.9433 - val_loss: 0.4238 - val_accuracy: 0.9145\n",
      "Epoch 27/30\n",
      "263/263 [==============================] - 3s 10ms/step - loss: 0.1662 - accuracy: 0.9452 - val_loss: 0.4041 - val_accuracy: 0.9057\n",
      "Epoch 28/30\n",
      "263/263 [==============================] - 2s 9ms/step - loss: 0.1553 - accuracy: 0.9475 - val_loss: 0.3959 - val_accuracy: 0.9104\n",
      "Epoch 29/30\n",
      "263/263 [==============================] - 2s 9ms/step - loss: 0.1530 - accuracy: 0.9499 - val_loss: 0.4410 - val_accuracy: 0.9023\n",
      "Epoch 30/30\n",
      "263/263 [==============================] - 2s 9ms/step - loss: 0.1469 - accuracy: 0.9507 - val_loss: 0.4535 - val_accuracy: 0.9101\n"
     ]
    }
   ],
   "source": [
    "# Set the number of epochs for training\n",
    "num_epochs = 30\n",
    "\n",
    "# Set the batch size for training\n",
    "batch_size = 128\n",
    "\n",
    "# Set the cvaliation split for training\n",
    "validation_split = 0.2\n",
    "\n",
    "# Fit the model\n",
    "cnn_history_2 = cnn_model_2.fit(\n",
    "\n",
    "            x_train_norm, y_train_encoded,\n",
    "\n",
    "            epochs = num_epochs,\n",
    "\n",
    "            batch_size= batch_size,\n",
    "\n",
    "            validation_split = validation_split,\n",
    "\n",
    "            verbose = 1\n",
    "            )"
   ]
  },
  {
   "cell_type": "markdown",
   "metadata": {
    "id": "PyhUtMy3KDN1"
   },
   "source": [
    "### **Plot the Training and Validation accuracies and write your observations.**"
   ]
  },
  {
   "cell_type": "code",
   "execution_count": 45,
   "metadata": {
    "colab": {
     "base_uri": "https://localhost:8080/",
     "height": 472
    },
    "id": "YVQu7uWiAjQH",
    "outputId": "28cc7057-9a06-4f82-ac96-980403c845b9"
   },
   "outputs": [
    {
     "data": {
      "image/png": "[encoded data removed]",
      "text/plain": [
       "<Figure size 640x480 with 1 Axes>"
      ]
     },
     "metadata": {},
     "output_type": "display_data"
    }
   ],
   "source": [
    "plt.plot(cnn_history_2.history['accuracy'])\n",
    "\n",
    "plt.plot(cnn_history_2.history['val_accuracy'])\n",
    "\n",
    "plt.title('Model Accuracy')\n",
    "\n",
    "plt.ylabel('Accuracy')\n",
    "\n",
    "plt.xlabel('Epoch')\n",
    "\n",
    "plt.legend(['Train', 'Validation'], loc = 'upper left')\n",
    "\n",
    "# Display the plot\n",
    "plt.show()"
   ]
  },
  {
   "cell_type": "markdown",
   "metadata": {
    "id": "Qrrt0Ac3AjQH"
   },
   "source": [
    "**Observations: cnn_model_2**\n",
    "\n",
    "- this is the best model yet, with accuracy on the validation data reaching about .90\n",
    "- the model is still overfitting the training data a little bit, so this may be an area for further improvement\n",
    "- due to diminishing improvement in accuracy, 30 epochs may be an unneccessarily high number of epochs\n",
    "- this means we might be able to tune this model while training over a lower number of epochs (and therefore a shorter runtime)"
   ]
  },
  {
   "cell_type": "markdown",
   "metadata": {
    "id": "kja4SnOdAjQI"
   },
   "source": [
    "## **Predictions on the test data**\n",
    "\n",
    "- Make predictions on the test set using the second model.\n",
    "- Print the obtained results using the classification report and the confusion matrix.\n",
    "- Final observations on the obtained results."
   ]
  },
  {
   "cell_type": "markdown",
   "metadata": {
    "id": "eHCRwRbgKDN2"
   },
   "source": [
    "### **Make predictions on the test data using the second model.**"
   ]
  },
  {
   "cell_type": "code",
   "execution_count": 46,
   "metadata": {
    "colab": {
     "base_uri": "https://localhost:8080/"
    },
    "id": "f1d-VvaLAjQI",
    "outputId": "1aed0a32-86bf-4447-ba7e-5180330fbf4c"
   },
   "outputs": [
    {
     "name": "stdout",
     "output_type": "stream",
     "text": [
      "563/563 [==============================] - 2s 3ms/step - loss: 0.4905 - accuracy: 0.9060\n",
      "563/563 [==============================] - 1s 2ms/step\n"
     ]
    }
   ],
   "source": [
    "accuracy = cnn_model_2.evaluate(x_test_norm, y_test_encoded)\n",
    "# Here we would get the output as probablities for each category\n",
    "y_pred=cnn_model_2.predict(x_test_norm)"
   ]
  },
  {
   "cell_type": "markdown",
   "metadata": {
    "id": "DrV1tOG0AjQI"
   },
   "source": [
    "**Note:** Earlier, we noticed that each entry of the target variable is a one-hot encoded vector, but to print the classification report and confusion matrix, we must convert each entry of y_test to a single label."
   ]
  },
  {
   "cell_type": "code",
   "execution_count": 47,
   "metadata": {
    "id": "dUSHU9W0AjQI"
   },
   "outputs": [],
   "source": [
    "# Obtaining the categorical values from y_test_encoded and y_pred\n",
    "y_pred_arg=np.argmax(y_pred,axis=1)\n",
    "y_test_arg=np.argmax(y_test_encoded,axis=1)"
   ]
  },
  {
   "cell_type": "markdown",
   "metadata": {
    "id": "aVCa-ysWKDN3"
   },
   "source": [
    "### **Write your final observations on the performance of the model on the test data.**"
   ]
  },
  {
   "cell_type": "code",
   "execution_count": 48,
   "metadata": {
    "colab": {
     "base_uri": "https://localhost:8080/",
     "height": 696
    },
    "id": "sOMq2rCJAjQJ",
    "outputId": "a47994b3-e6c9-4549-faa2-fd6d39d0a8b3"
   },
   "outputs": [
    {
     "data": {
      "image/png": "[encoded data removed]",
      "text/plain": [
       "<Figure size 1000x800 with 2 Axes>"
      ]
     },
     "metadata": {},
     "output_type": "display_data"
    }
   ],
   "source": [
    "# Plotting the Confusion Matrix using confusion matrix() function which is also predefined tensorflow module\n",
    "confusion_matrix = tf.math.confusion_matrix(y_test_arg,y_pred_arg)\n",
    "f, ax = plt.subplots(figsize=(10, 8))\n",
    "sns.heatmap(\n",
    "    confusion_matrix,\n",
    "    annot=True,\n",
    "    linewidths=.4,\n",
    "    fmt=\"d\",\n",
    "    square=True,\n",
    "    ax=ax\n",
    ")\n",
    "plt.ylabel('Actual')\n",
    "plt.xlabel('Predicted')\n",
    "plt.show()"
   ]
  },
  {
   "cell_type": "code",
   "execution_count": 49,
   "metadata": {
    "colab": {
     "base_uri": "https://localhost:8080/"
    },
    "id": "qLJD8M7UaG25",
    "outputId": "b81f83d7-8f41-4270-e6dd-9505cc04e4ce"
   },
   "outputs": [
    {
     "name": "stdout",
     "output_type": "stream",
     "text": [
      "              precision    recall  f1-score   support\n",
      "\n",
      "           0       0.93      0.93      0.93      1814\n",
      "           1       0.93      0.89      0.91      1828\n",
      "           2       0.94      0.89      0.92      1803\n",
      "           3       0.84      0.88      0.86      1719\n",
      "           4       0.93      0.92      0.92      1812\n",
      "           5       0.89      0.91      0.90      1768\n",
      "           6       0.90      0.90      0.90      1832\n",
      "           7       0.93      0.92      0.93      1808\n",
      "           8       0.89      0.89      0.89      1812\n",
      "           9       0.88      0.92      0.90      1804\n",
      "\n",
      "    accuracy                           0.91     18000\n",
      "   macro avg       0.91      0.91      0.91     18000\n",
      "weighted avg       0.91      0.91      0.91     18000\n",
      "\n"
     ]
    }
   ],
   "source": [
    "#Accuracy as per the classification report\n",
    "cr=metrics.classification_report(y_test_arg,y_pred_arg)\n",
    "print(cr)"
   ]
  },
  {
   "cell_type": "markdown",
   "metadata": {
    "id": "TNN9v713AjQJ"
   },
   "source": [
    "**Final Observations:**\n",
    "\n",
    "- cnn_model_2 was the most successful model, with an accurcy of about .91\n",
    "- We observed that cnn_model_2 is still slightly overfitting the training data.\n",
    "- To avoid overfitting, we can try adding more dropout layers.\n",
    "- regarding recall, cnn_model_2 does the best identifying 0's and the worst identifying 8's\n",
    "\n",
    "\n",
    "- as we added to the complexity of a model, the model tended to show better performance. It is worth exploring how much these models could improve with further added complexities (ie. more layers, more nodes, more convolutional filters, etc).\n",
    "\n",
    "- in general, the CNN models have outperformed the ANN models; this could suggest CNNs are the preferable model to work with for this task\n"
   ]
  },
  {
   "cell_type": "code",
   "execution_count": null,
   "metadata": {
    "id": "HqgXgj8wxOIf"
   },
   "outputs": [],
   "source": []
  }
 ],
 "metadata": {
  "accelerator": "GPU",
  "colab": {
   "gpuType": "T4",
   "provenance": [],
   "toc_visible": true
  },
  "gpuClass": "standard",
  "kernelspec": {
   "display_name": "Python 3 (ipykernel)",
   "language": "python",
   "name": "python3"
  },
  "language_info": {
   "codemirror_mode": {
    "name": "ipython",
    "version": 3
   },
   "file_extension": ".py",
   "mimetype": "text/x-python",
   "name": "python",
   "nbconvert_exporter": "python",
   "pygments_lexer": "ipython3",
   "version": "3.9.13"
  }
 },
 "nbformat": 4,
 "nbformat_minor": 1
}
